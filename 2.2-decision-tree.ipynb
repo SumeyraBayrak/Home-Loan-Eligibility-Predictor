{
 "cells": [
  {
   "cell_type": "markdown",
   "id": "02bcae48-dee6-478e-b289-b9b312dce30b",
   "metadata": {},
   "source": [
    "## Kütüphaneleri İçe Aktarma:"
   ]
  },
  {
   "cell_type": "code",
   "execution_count": 1,
   "id": "3216bbc7-4b99-4d84-8cc1-3d7c305a666b",
   "metadata": {},
   "outputs": [],
   "source": [
    "import pandas as pd\n",
    "import numpy as np\n",
    "import seaborn as sns\n",
    "import matplotlib.pyplot as plt\n",
    "from sklearn.model_selection import KFold\n",
    "from sklearn.linear_model import LogisticRegression\n",
    "from sklearn.metrics import accuracy_score\n",
    "from sklearn.model_selection import StratifiedKFold\n",
    "\n",
    "\n",
    "# Grafiklerin doğrudan not defterinde gösterilmesini sağlar\n",
    "%matplotlib inline\n",
    "\n",
    "# Uyarıları yok say\n",
    "import warnings\n",
    "warnings.filterwarnings(\"ignore\")\n"
   ]
  },
  {
   "cell_type": "markdown",
   "id": "63eb5e0d-864e-4710-9f42-614fa4b077a9",
   "metadata": {},
   "source": [
    "<font size=\"4\" style=\"padding: 10px; font-family: Arial, sans-serif; line-height: 1.6; display: block; margin-bottom: 15px; text-align: justify;\">\n",
    "<h2>\n",
    "Veri Setlerinin Yüklenmesi\n",
    "</h2>\n",
    "Aşağıdaki kod, iki farklı CSV dosyasını okuyarak eğitim ve test veri setlerini yükler:\n",
    "</font>"
   ]
  },
  {
   "cell_type": "code",
   "execution_count": 2,
   "id": "12f3affb-91d8-4e0b-ba29-77a654fd2a06",
   "metadata": {},
   "outputs": [],
   "source": [
    "train = pd.read_csv(r\"C:\\Users\\Samira\\Sumeyra\\btk-akademi\\Home-Loan-Eligibility-Predictor\\dataset\\train_ctrUa4K.csv\")\n",
    "test = pd.read_csv(r\"C:\\Users\\Samira\\Sumeyra\\btk-akademi\\Home-Loan-Eligibility-Predictor\\dataset\\test_lAUu6dG.csv\")"
   ]
  },
  {
   "cell_type": "markdown",
   "id": "bfb05aea-57ea-404f-9fb6-35bdfad27cdd",
   "metadata": {},
   "source": [
    "<font size=\"4\" style=\"padding: 10px; font-family: Arial, sans-serif; line-height: 1.6; display: block; margin-bottom: 15px; text-align: justify;\">\n",
    "<h2>\n",
    "Eğitim Veri Setindeki Eksik Verilerin Doldurulması\n",
    "</h2>\n",
    "Aşağıdaki kod, eğitim veri setindeki eksik (NaN) değerleri, her sütunun mod (en sık görülen değer) ile doldurur:\n",
    "</font>"
   ]
  },
  {
   "cell_type": "code",
   "execution_count": 3,
   "id": "20aa018c-129b-4457-9bef-1c3cf3c6b3d5",
   "metadata": {},
   "outputs": [],
   "source": [
    "train[\"Gender\"].fillna(train[\"Gender\"].mode()[0], inplace = True)\n",
    "train[\"Married\"].fillna(train[\"Married\"].mode()[0], inplace = True)\n",
    "train[\"Dependents\"].fillna(train[\"Dependents\"].mode()[0], inplace = True)\n",
    "train[\"Self_Employed\"].fillna(train[\"Self_Employed\"].mode()[0], inplace = True)\n",
    "train[\"Credit_History\"].fillna(train[\"Credit_History\"].mode()[0], inplace = True)"
   ]
  },
  {
   "cell_type": "markdown",
   "id": "17afc658-aaf1-45f9-8a2a-2d10b28273fc",
   "metadata": {},
   "source": [
    "<font size=\"4\" style=\"padding: 10px; font-family: Arial, sans-serif; line-height: 1.6; display: block; margin-bottom: 15px; text-align: justify;\">\n",
    "<h2>\n",
    "Test Veri Setindeki Eksik Verilerin Doldurulması\n",
    "</h2>\n",
    "Aşağıdaki kod, test veri setindeki eksik (NaN) değerleri, her sütunun mod (en sık görülen değer) ile doldurur:\n",
    "</font>"
   ]
  },
  {
   "cell_type": "code",
   "execution_count": 4,
   "id": "fda1c8bf-860e-4782-a092-351dc3efffc3",
   "metadata": {},
   "outputs": [],
   "source": [
    "test[\"Gender\"].fillna(test[\"Gender\"].mode()[0], inplace = True)\n",
    "test[\"Married\"].fillna(test[\"Married\"].mode()[0], inplace = True)\n",
    "test[\"Dependents\"].fillna(test[\"Dependents\"].mode()[0], inplace = True)\n",
    "test[\"Self_Employed\"].fillna(test[\"Self_Employed\"].mode()[0], inplace = True)\n",
    "test[\"Credit_History\"].fillna(test[\"Credit_History\"].mode()[0], inplace = True)"
   ]
  },
  {
   "cell_type": "markdown",
   "id": "cd1508cb-8f57-4ebd-b1f5-f1769dc76811",
   "metadata": {},
   "source": [
    "<font size=\"4\" style=\"padding: 10px; font-family: Arial, sans-serif; line-height: 1.6; display: block; margin-bottom: 15px; text-align: justify;\">\n",
    "<h2>\n",
    "Loan_Amount_Term Sütunundaki Eksik Verilerin Doldurulması\n",
    "</h2>\n",
    "Aşağıdaki kod, hem eğitim (<strong>train</strong>) hem de test (<strong>test</strong>) veri setlerinde, <strong>Loan_Amount_Term</strong> sütunundaki eksik (<strong>NaN</strong>) değerleri en sık görülen değer (<strong>mod</strong>) ile doldurur:\n",
    "</font>"
   ]
  },
  {
   "cell_type": "code",
   "execution_count": 5,
   "id": "ce01c171-2643-4946-847b-4a5b2a4ce671",
   "metadata": {},
   "outputs": [],
   "source": [
    "train[\"Loan_Amount_Term\"].fillna(train[\"Loan_Amount_Term\"].mode()[0], inplace = True)\n",
    "test[\"Loan_Amount_Term\"].fillna(test[\"Loan_Amount_Term\"].mode()[0], inplace = True)"
   ]
  },
  {
   "cell_type": "markdown",
   "id": "2b98f886-4ffc-432a-be00-9ac1e9a7830a",
   "metadata": {},
   "source": [
    "<font size=\"4\" style=\"padding: 10px; font-family: Arial, sans-serif; line-height: 1.6; display: block; margin-bottom: 15px; text-align: justify;\">\n",
    "<h2>\n",
    "LoanAmount Sütunundaki Eksik Verilerin Doldurulması\n",
    "</h2>\n",
    "Aşağıdaki kod, hem eğitim (<strong>train</strong>) hem de test (<strong>test</strong>) veri setlerinde, <strong>LoanAmount</strong> sütunundaki eksik (<strong>NaN</strong>) değerleri sütunun <strong>medyan</strong> değeriyle doldurur:\n",
    "</font>"
   ]
  },
  {
   "cell_type": "code",
   "execution_count": 6,
   "id": "9632dffb-2571-4684-8e98-7db1b0a66d8c",
   "metadata": {},
   "outputs": [],
   "source": [
    "train[\"LoanAmount\"].fillna(train[\"LoanAmount\"].median(), inplace = True)\n",
    "test[\"LoanAmount\"].fillna(test[\"LoanAmount\"].median(), inplace = True)"
   ]
  },
  {
   "cell_type": "markdown",
   "id": "21b1b96f-74df-408a-9a8d-5eddae1b1948",
   "metadata": {},
   "source": [
    "<font size=\"4\" style=\"padding: 10px; font-family: Arial, sans-serif; line-height: 1.6; display: block; margin-bottom: 15px; text-align: justify;\">\n",
    "<h2>Toplam Gelir Hesaplama (Total Income Calculation)</h2>\n",
    "\n",
    "<strong>Başvuran (Applicant)</strong> ve <strong>eş başvuran (Coapplicant)</strong> gelirlerinin (<strong>Income</strong>) toplamı hesaplanarak \"<strong>Total_Income</strong>\" adlı yeni bir sütun (<strong>Column</strong>) oluşturuluyor:\n",
    "</font>"
   ]
  },
  {
   "cell_type": "code",
   "execution_count": 7,
   "id": "3cbaa863-1472-430e-8549-2495a9dc6adb",
   "metadata": {},
   "outputs": [],
   "source": [
    "# Total Income hesaplama\n",
    "train[\"Total_Income\"] = train[\"ApplicantIncome\"] + train[\"CoapplicantIncome\"]\n",
    "test[\"Total_Income\"] = test[\"ApplicantIncome\"] + test[\"CoapplicantIncome\"]"
   ]
  },
  {
   "cell_type": "markdown",
   "id": "39dba516-79ec-4989-9f86-bf888d6f28ce",
   "metadata": {},
   "source": [
    "<font size=\"4\" style=\"padding: 10px; font-family: Arial, sans-serif; line-height: 1.6; display: block; margin-bottom: 15px; text-align: justify;\">\n",
    "<h2>Logaritmik Toplam Gelir Hesaplama</h2>\n",
    "<strong>Total Income</strong> dağılımı sağa çarpıktır. Bu durumu düzeltmek için <strong>logaritma dönüşümü (logarithmic transformation)</strong> yaptık:\n",
    "</font>"
   ]
  },
  {
   "cell_type": "code",
   "execution_count": 8,
   "id": "1203c969-3ab1-46d3-bf5f-dac327b3ab87",
   "metadata": {},
   "outputs": [],
   "source": [
    "# Logarithmic Total Income hesaplama\n",
    "train[\"Total_Income_log\"] = np.log(train[\"Total_Income\"])\n",
    "test[\"Total_Income_log\"] = np.log(test[\"Total_Income\"])"
   ]
  },
  {
   "cell_type": "markdown",
   "id": "1fbbe213-da24-4879-a132-bfac8d503824",
   "metadata": {},
   "source": [
    "<font size=\"4\" style=\"padding: 10px; font-family: Arial, sans-serif; line-height: 1.6; display: block; margin-bottom: 15px; text-align: justify;\">\n",
    "<h2>EMI Hesaplama (EMI Calculation)</h2>\n",
    "<strong>EMI (Equal Monthly Installment)</strong> hesaplamak için, <strong>kredi miktarı (LoanAmount)</strong> <strong>kredi geri ödeme süresine (Loan_Amount_Term)</strong> bölündü.\n",
    "</font>"
   ]
  },
  {
   "cell_type": "code",
   "execution_count": 9,
   "id": "97d04627-b58a-4ddd-9971-acb3573335e5",
   "metadata": {},
   "outputs": [],
   "source": [
    "# EMI hesaplama\n",
    "train[\"EMI\"] = train[\"LoanAmount\"] / train[\"Loan_Amount_Term\"]\n",
    "test[\"EMI\"] = test[\"LoanAmount\"] / test[\"Loan_Amount_Term\"]"
   ]
  },
  {
   "cell_type": "markdown",
   "id": "f0ab4e3b-0469-471d-a128-d155f6e8da29",
   "metadata": {},
   "source": [
    "<font size=\"4\" style=\"padding: 10px; font-family: Arial, sans-serif; line-height: 1.6; display: block; margin-bottom: 15px; text-align: justify;\">\n",
    "<h2>Balance Income Hesaplama (Balance Income Calculation)</h2>\n",
    "<strong>Balance Income</strong>, <strong>toplam gelirden (Total Income)</strong> <strong>EMI'nin (Equal Monthly Installment)</strong> 1000 ile çarpımı çıkarılarak hesaplanır:\n",
    "</font>"
   ]
  },
  {
   "cell_type": "code",
   "execution_count": 10,
   "id": "cc8218ef-eec0-4b2e-86ab-e4e26a4b4bef",
   "metadata": {},
   "outputs": [],
   "source": [
    "# Balance Income hesaplama\n",
    "train[\"Balance_Income\"] = train[\"Total_Income\"] - (train[\"EMI\"] * 1000)\n",
    "test[\"Balance_Income\"] = test[\"Total_Income\"] - (test[\"EMI\"] * 1000)"
   ]
  },
  {
   "cell_type": "markdown",
   "id": "c8b53d1c-f1e8-4eb0-af9f-7a06717f2d2f",
   "metadata": {},
   "source": [
    "<font size=\"4\" style=\"padding: 10px; font-family: Arial, sans-serif; line-height: 1.6; display: block; margin-bottom: 15px; text-align: justify;\">\n",
    "<h2>Gereksiz Sütunları Kaldırma (Dropping Unnecessary Columns)</h2>\n",
    "\n",
    "<strong>ApplicantIncome</strong>, <strong>CoapplicantIncome</strong>, <strong>LoanAmount</strong>, ve <strong>Loan_Amount_Term</strong> sütunları, veri setinden çıkarıldı:\n",
    "</font>"
   ]
  },
  {
   "cell_type": "code",
   "execution_count": 11,
   "id": "3c6e65eb-dec2-4b38-8f66-78a71a36f785",
   "metadata": {},
   "outputs": [],
   "source": [
    "train = train.drop([\"ApplicantIncome\", \"CoapplicantIncome\", \"LoanAmount\", \"Loan_Amount_Term\"], axis = 1)\n",
    "test = test.drop([\"ApplicantIncome\", \"CoapplicantIncome\", \"LoanAmount\", \"Loan_Amount_Term\"], axis = 1)"
   ]
  },
  {
   "cell_type": "markdown",
   "id": "8e66c5f0-6d62-4606-a33d-a994b5c8f225",
   "metadata": {},
   "source": [
    "<font size=\"4\" style=\"padding: 10px; font-family: Arial, sans-serif; line-height: 1.6; display: block; margin-bottom: 15px; text-align: justify;\">\n",
    "<h2>Karar Ağaçları</h2>\n",
    "\n",
    "<strong>Karar ağacı</strong>, genellikle sınıflandırma problemlerinde kullanılan, hedef değişkeni önceden belirlenmiş bir denetimli öğrenme algoritmasıdır. Bu yöntemde, veri, her düğümde belirli bir kurala göre iki veya daha fazla alt gruba ayrılır. Ayrım, verinin en iyi şekilde bölünmesini sağlayacak şekilde yapılır, yani her alt grup olabildiğince homojen (benzer özelliklere sahip) olur.\n",
    "\n",
    "Her düğümde, veri bir ayırıcıya göre bölünür. Bu ayırıcı, veriyi daha saf alt kümelere ayırmaya yönelik seçilir. Bu sayede, her bir alt grup, hedef değişken açısından daha belirgin hale gelir. Örneğin, bir karar ağacı modelinde, yaşa göre bir bölme yapılırsa, yaş grupları daha homojen hale gelir.\n",
    "\n",
    "<strong>Karar ağaçları</strong>, her bölme için en uygun ayırıcıyı seçmek için birden fazla algoritma kullanır. Bu algoritmalar, alt düğümlerin hedef değişkenle daha uyumlu hale gelmesini sağlar. Sonuçta, modelin doğruluğu, her bir bölmenin hedef değişkenle daha güçlü bir ilişki kurmasına dayanır. Bu süreç, ağacın dallanarak büyümesini ve daha doğru sonuçlar elde edilmesini sağlar.\n",
    "</font>"
   ]
  },
  {
   "cell_type": "code",
   "execution_count": 12,
   "id": "835a39e2-f9ab-405c-948b-dcd9f3c4e766",
   "metadata": {},
   "outputs": [],
   "source": [
    "from sklearn.metrics import accuracy_score\n",
    "from sklearn.model_selection import StratifiedKFold\n",
    "import pandas as pd\n",
    "from sklearn import tree"
   ]
  },
  {
   "cell_type": "code",
   "execution_count": 13,
   "id": "322c59c5-66b1-449e-9410-3f6933c42109",
   "metadata": {},
   "outputs": [],
   "source": [
    "test_id = test[\"Loan_ID\"]\n",
    "\n",
    "# \"Loan_ID\" kolonunu kaldır\n",
    "train = train.drop(\"Loan_ID\", axis=1)\n",
    "test = test.drop(\"Loan_ID\", axis=1)\n",
    "\n",
    "X = train.drop(\"Loan_Status\", axis=1)\n",
    "y = train.Loan_Status\n",
    "\n",
    "# Eğitim setindeki kategorik sütunları belirleyin ve One-Hot Encoding uygulayın\n",
    "categorical_cols = X.select_dtypes(include=['object']).columns\n",
    "X = pd.get_dummies(X, columns=categorical_cols, drop_first=True)\n",
    "\n",
    "# Test setindeki kategorik sütunları belirleyin ve One-Hot Encoding uygulayın\n",
    "test_categorical_cols = test.select_dtypes(include=['object']).columns\n",
    "test = pd.get_dummies(test, columns=test_categorical_cols, drop_first=True)"
   ]
  },
  {
   "cell_type": "code",
   "execution_count": 14,
   "id": "7af22b3a-398a-481a-861c-6df843e7d4e8",
   "metadata": {},
   "outputs": [],
   "source": [
    "from sklearn.model_selection import train_test_split\n",
    "x_train, x_cv, y_train, y_cv = train_test_split(X, y, test_size = 0.3)"
   ]
  },
  {
   "cell_type": "code",
   "execution_count": 15,
   "id": "80117535-4f9d-4fac-b774-4d40ee3fd400",
   "metadata": {},
   "outputs": [
    {
     "name": "stdout",
     "output_type": "stream",
     "text": [
      "\n",
      "1 of kfold 5\n",
      "Accuracy Score for Fold 1: 0.6829268292682927\n",
      "\n",
      "2 of kfold 5\n",
      "Accuracy Score for Fold 2: 0.7073170731707317\n",
      "\n",
      "3 of kfold 5\n",
      "Accuracy Score for Fold 3: 0.7235772357723578\n",
      "\n",
      "4 of kfold 5\n",
      "Accuracy Score for Fold 4: 0.6991869918699187\n",
      "\n",
      "5 of kfold 5\n",
      "Accuracy Score for Fold 5: 0.6229508196721312\n"
     ]
    }
   ],
   "source": [
    "# K-Fold Cross Validation\n",
    "i = 1\n",
    "\n",
    "kf = StratifiedKFold(n_splits=5, random_state=1, shuffle=True)\n",
    "\n",
    "# Değerlendirme skorları\n",
    "validation_scores = []\n",
    "\n",
    "for train_index, test_index in kf.split(X, y):\n",
    "    print(\"\\n{} of kfold {}\".format(i,kf.n_splits))\n",
    "\n",
    "    # Eğitim ve test veri setlerini ayır\n",
    "    xtr, xvl = X.loc[train_index], X.loc[test_index]\n",
    "    ytr, yvl = y[train_index], y[test_index]\n",
    "\n",
    "    # Modeli eğit\n",
    "    model = tree.DecisionTreeClassifier(random_state=1)\n",
    "    model.fit(xtr, ytr)\n",
    "\n",
    "    # Doğrulama setinde tahmin yap\n",
    "    pred_test = model.predict(xvl)\n",
    "    score = accuracy_score(yvl, pred_test)\n",
    "    validation_scores.append(score)\n",
    "    print(f\"Accuracy Score for Fold {i}: {score}\")\n",
    "\n",
    "    i += 1\n",
    "\n",
    "# Test setinde tahmin yap\n",
    "pred_final = model.predict(test)\n",
    "pred = model.predict_proba(xvl)[:,1]"
   ]
  },
  {
   "cell_type": "code",
   "execution_count": 16,
   "id": "19f30d2e-458d-4cdb-aa85-c1f4f9e081f3",
   "metadata": {},
   "outputs": [
    {
     "name": "stdout",
     "output_type": "stream",
     "text": [
      "\n",
      "Mean Validation Accuracy: 0.6871917899506863\n",
      "Leaderboard Accuracy: 0.9081081081081082\n"
     ]
    }
   ],
   "source": [
    "# Validation Skorlarının ortalamasını hesapla\n",
    "mean_validation_score = np.mean(validation_scores)\n",
    "print(f\"\\nMean Validation Accuracy: {mean_validation_score}\")\n",
    "\n",
    "# Doğrulama setinde tahmin yap\n",
    "pred_val = model.predict(x_cv)\n",
    "\n",
    "# Leaderboard skoru için doğru değişkeni kullan\n",
    "leaderboard_score = accuracy_score(y_cv, pred_val)  # pred_val doğru olan değişken\n",
    "print(f\"Leaderboard Accuracy: {leaderboard_score}\")"
   ]
  },
  {
   "cell_type": "code",
   "execution_count": 17,
   "id": "fe3720b2-62ca-42c6-83b1-cd8a9402267a",
   "metadata": {},
   "outputs": [],
   "source": [
    "# Boş bir DataFrame oluşturuyoruz\n",
    "submission = pd.DataFrame()\n",
    "# Loan_ID sütununu ekliyoruz\n",
    "submission['Loan_ID'] = test_id\n",
    "# Loan_Status sütununu ekliyoruz\n",
    "submission['Loan_Status'] = pred_final"
   ]
  },
  {
   "cell_type": "code",
   "execution_count": 18,
   "id": "16702b36-7669-45c3-aee3-65a94a81233d",
   "metadata": {},
   "outputs": [],
   "source": [
    "pd.DataFrame(submission, columns = [\"Loan_ID\", \"Loan_Status\"]).to_csv(\"DecisionTree.csv\", index=False)"
   ]
  }
 ],
 "metadata": {
  "kernelspec": {
   "display_name": "Python 3 (ipykernel)",
   "language": "python",
   "name": "python3"
  },
  "language_info": {
   "codemirror_mode": {
    "name": "ipython",
    "version": 3
   },
   "file_extension": ".py",
   "mimetype": "text/x-python",
   "name": "python",
   "nbconvert_exporter": "python",
   "pygments_lexer": "ipython3",
   "version": "3.9.20"
  }
 },
 "nbformat": 4,
 "nbformat_minor": 5
}
