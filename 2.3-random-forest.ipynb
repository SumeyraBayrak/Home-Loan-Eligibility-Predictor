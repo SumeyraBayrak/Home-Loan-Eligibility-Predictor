{
 "cells": [
  {
   "cell_type": "markdown",
   "id": "02bcae48-dee6-478e-b289-b9b312dce30b",
   "metadata": {},
   "source": [
    "## Kütüphaneleri İçe Aktarma:"
   ]
  },
  {
   "cell_type": "code",
   "execution_count": 1,
   "id": "3216bbc7-4b99-4d84-8cc1-3d7c305a666b",
   "metadata": {},
   "outputs": [],
   "source": [
    "import pandas as pd\n",
    "import numpy as np\n",
    "import seaborn as sns\n",
    "import matplotlib.pyplot as plt\n",
    "from sklearn.model_selection import KFold\n",
    "from sklearn.linear_model import LogisticRegression\n",
    "from sklearn.metrics import accuracy_score\n",
    "from sklearn.model_selection import StratifiedKFold\n",
    "\n",
    "\n",
    "# Grafiklerin doğrudan not defterinde gösterilmesini sağlar\n",
    "%matplotlib inline\n",
    "\n",
    "# Uyarıları yok say\n",
    "import warnings\n",
    "warnings.filterwarnings(\"ignore\")\n"
   ]
  },
  {
   "cell_type": "markdown",
   "id": "63eb5e0d-864e-4710-9f42-614fa4b077a9",
   "metadata": {},
   "source": [
    "<font size=\"4\" style=\"padding: 10px; font-family: Arial, sans-serif; line-height: 1.6; display: block; margin-bottom: 15px; text-align: justify;\">\n",
    "<h2>\n",
    "Veri Setlerinin Yüklenmesi\n",
    "</h2>\n",
    "Aşağıdaki kod, iki farklı CSV dosyasını okuyarak eğitim ve test veri setlerini yükler:\n",
    "</font>"
   ]
  },
  {
   "cell_type": "code",
   "execution_count": 2,
   "id": "12f3affb-91d8-4e0b-ba29-77a654fd2a06",
   "metadata": {},
   "outputs": [],
   "source": [
    "train = pd.read_csv(r\"C:\\Users\\Samira\\Sumeyra\\btk-akademi\\Home-Loan-Eligibility-Predictor\\dataset\\train_ctrUa4K.csv\")\n",
    "test = pd.read_csv(r\"C:\\Users\\Samira\\Sumeyra\\btk-akademi\\Home-Loan-Eligibility-Predictor\\dataset\\test_lAUu6dG.csv\")"
   ]
  },
  {
   "cell_type": "markdown",
   "id": "bfb05aea-57ea-404f-9fb6-35bdfad27cdd",
   "metadata": {},
   "source": [
    "<font size=\"4\" style=\"padding: 10px; font-family: Arial, sans-serif; line-height: 1.6; display: block; margin-bottom: 15px; text-align: justify;\">\n",
    "<h2>\n",
    "Eğitim Veri Setindeki Eksik Verilerin Doldurulması\n",
    "</h2>\n",
    "Aşağıdaki kod, eğitim veri setindeki eksik (NaN) değerleri, her sütunun mod (en sık görülen değer) ile doldurur:\n",
    "</font>"
   ]
  },
  {
   "cell_type": "code",
   "execution_count": 3,
   "id": "20aa018c-129b-4457-9bef-1c3cf3c6b3d5",
   "metadata": {},
   "outputs": [],
   "source": [
    "train[\"Gender\"].fillna(train[\"Gender\"].mode()[0], inplace = True)\n",
    "train[\"Married\"].fillna(train[\"Married\"].mode()[0], inplace = True)\n",
    "train[\"Dependents\"].fillna(train[\"Dependents\"].mode()[0], inplace = True)\n",
    "train[\"Self_Employed\"].fillna(train[\"Self_Employed\"].mode()[0], inplace = True)\n",
    "train[\"Credit_History\"].fillna(train[\"Credit_History\"].mode()[0], inplace = True)"
   ]
  },
  {
   "cell_type": "markdown",
   "id": "17afc658-aaf1-45f9-8a2a-2d10b28273fc",
   "metadata": {},
   "source": [
    "<font size=\"4\" style=\"padding: 10px; font-family: Arial, sans-serif; line-height: 1.6; display: block; margin-bottom: 15px; text-align: justify;\">\n",
    "<h2>\n",
    "Test Veri Setindeki Eksik Verilerin Doldurulması\n",
    "</h2>\n",
    "Aşağıdaki kod, test veri setindeki eksik (NaN) değerleri, her sütunun mod (en sık görülen değer) ile doldurur:\n",
    "</font>"
   ]
  },
  {
   "cell_type": "code",
   "execution_count": 4,
   "id": "fda1c8bf-860e-4782-a092-351dc3efffc3",
   "metadata": {},
   "outputs": [],
   "source": [
    "test[\"Gender\"].fillna(test[\"Gender\"].mode()[0], inplace = True)\n",
    "test[\"Married\"].fillna(test[\"Married\"].mode()[0], inplace = True)\n",
    "test[\"Dependents\"].fillna(test[\"Dependents\"].mode()[0], inplace = True)\n",
    "test[\"Self_Employed\"].fillna(test[\"Self_Employed\"].mode()[0], inplace = True)\n",
    "test[\"Credit_History\"].fillna(test[\"Credit_History\"].mode()[0], inplace = True)"
   ]
  },
  {
   "cell_type": "markdown",
   "id": "cd1508cb-8f57-4ebd-b1f5-f1769dc76811",
   "metadata": {},
   "source": [
    "<font size=\"4\" style=\"padding: 10px; font-family: Arial, sans-serif; line-height: 1.6; display: block; margin-bottom: 15px; text-align: justify;\">\n",
    "<h2>\n",
    "Loan_Amount_Term Sütunundaki Eksik Verilerin Doldurulması\n",
    "</h2>\n",
    "Aşağıdaki kod, hem eğitim (<strong>train</strong>) hem de test (<strong>test</strong>) veri setlerinde, <strong>Loan_Amount_Term</strong> sütunundaki eksik (<strong>NaN</strong>) değerleri en sık görülen değer (<strong>mod</strong>) ile doldurur:\n",
    "</font>"
   ]
  },
  {
   "cell_type": "code",
   "execution_count": 5,
   "id": "ce01c171-2643-4946-847b-4a5b2a4ce671",
   "metadata": {},
   "outputs": [],
   "source": [
    "train[\"Loan_Amount_Term\"].fillna(train[\"Loan_Amount_Term\"].mode()[0], inplace = True)\n",
    "test[\"Loan_Amount_Term\"].fillna(test[\"Loan_Amount_Term\"].mode()[0], inplace = True)"
   ]
  },
  {
   "cell_type": "markdown",
   "id": "2b98f886-4ffc-432a-be00-9ac1e9a7830a",
   "metadata": {},
   "source": [
    "<font size=\"4\" style=\"padding: 10px; font-family: Arial, sans-serif; line-height: 1.6; display: block; margin-bottom: 15px; text-align: justify;\">\n",
    "<h2>\n",
    "LoanAmount Sütunundaki Eksik Verilerin Doldurulması\n",
    "</h2>\n",
    "Aşağıdaki kod, hem eğitim (<strong>train</strong>) hem de test (<strong>test</strong>) veri setlerinde, <strong>LoanAmount</strong> sütunundaki eksik (<strong>NaN</strong>) değerleri sütunun <strong>medyan</strong> değeriyle doldurur:\n",
    "</font>"
   ]
  },
  {
   "cell_type": "code",
   "execution_count": 6,
   "id": "9632dffb-2571-4684-8e98-7db1b0a66d8c",
   "metadata": {},
   "outputs": [],
   "source": [
    "train[\"LoanAmount\"].fillna(train[\"LoanAmount\"].median(), inplace = True)\n",
    "test[\"LoanAmount\"].fillna(test[\"LoanAmount\"].median(), inplace = True)"
   ]
  },
  {
   "cell_type": "markdown",
   "id": "0520ed91-bcad-4c3c-a01f-d00d661240d4",
   "metadata": {},
   "source": [
    "<font size=\"4\" style=\"padding: 10px; font-family: Arial, sans-serif; line-height: 1.6; display: block; margin-bottom: 15px; text-align: justify;\">\n",
    "<h2>Toplam Gelir Hesaplama (Total Income Calculation)</h2>\n",
    "\n",
    "<strong>Başvuran (Applicant)</strong> ve <strong>eş başvuran (Coapplicant)</strong> gelirlerinin (<strong>Income</strong>) toplamı hesaplanarak \"<strong>Total_Income</strong>\" adlı yeni bir sütun (<strong>Column</strong>) oluşturuluyor:\n",
    "</font>"
   ]
  },
  {
   "cell_type": "code",
   "execution_count": 7,
   "id": "3cbaa863-1472-430e-8549-2495a9dc6adb",
   "metadata": {},
   "outputs": [],
   "source": [
    "# Total Income hesaplama\n",
    "train[\"Total_Income\"] = train[\"ApplicantIncome\"] + train[\"CoapplicantIncome\"]\n",
    "test[\"Total_Income\"] = test[\"ApplicantIncome\"] + test[\"CoapplicantIncome\"]"
   ]
  },
  {
   "cell_type": "markdown",
   "id": "3ce4c99f-c0db-4672-b30a-3015eac0f403",
   "metadata": {},
   "source": [
    "<font size=\"4\" style=\"padding: 10px; font-family: Arial, sans-serif; line-height: 1.6; display: block; margin-bottom: 15px; text-align: justify;\">\n",
    "<h2>Logaritmik Toplam Gelir Hesaplama</h2>\n",
    "<strong>Total Income</strong> dağılımı sağa çarpıktır. Bu durumu düzeltmek için <strong>logaritma dönüşümü (logarithmic transformation)</strong> yaptık:\n",
    "</font>"
   ]
  },
  {
   "cell_type": "code",
   "execution_count": 8,
   "id": "1203c969-3ab1-46d3-bf5f-dac327b3ab87",
   "metadata": {},
   "outputs": [],
   "source": [
    "# Logarithmic Total Income hesaplama\n",
    "train[\"Total_Income_log\"] = np.log(train[\"Total_Income\"])\n",
    "test[\"Total_Income_log\"] = np.log(test[\"Total_Income\"])"
   ]
  },
  {
   "cell_type": "markdown",
   "id": "124634ff-df4f-4f1c-ae23-0890ecf65894",
   "metadata": {},
   "source": [
    "<font size=\"4\" style=\"padding: 10px; font-family: Arial, sans-serif; line-height: 1.6; display: block; margin-bottom: 15px; text-align: justify;\">\n",
    "<h2>EMI Hesaplama (EMI Calculation)</h2>\n",
    "<strong>EMI (Equal Monthly Installment)</strong> hesaplamak için, <strong>kredi miktarı (LoanAmount)</strong> <strong>kredi geri ödeme süresine (Loan_Amount_Term)</strong> bölündü:\n",
    "</font>\n"
   ]
  },
  {
   "cell_type": "code",
   "execution_count": 9,
   "id": "97d04627-b58a-4ddd-9971-acb3573335e5",
   "metadata": {},
   "outputs": [],
   "source": [
    "# EMI hesaplama\n",
    "train[\"EMI\"] = train[\"LoanAmount\"] / train[\"Loan_Amount_Term\"]\n",
    "test[\"EMI\"] = test[\"LoanAmount\"] / test[\"Loan_Amount_Term\"]"
   ]
  },
  {
   "cell_type": "markdown",
   "id": "9dcb51c5-3444-45da-8fdb-77a24c717523",
   "metadata": {},
   "source": [
    "<font size=\"4\" style=\"padding: 10px; font-family: Arial, sans-serif; line-height: 1.6; display: block; margin-bottom: 15px; text-align: justify;\">\n",
    "<h2>Balance Income Hesaplama (Balance Income Calculation)</h2>\n",
    "<strong>Balance Income</strong>, <strong>toplam gelirden (Total Income)</strong> <strong>EMI'nin (Equal Monthly Installment)</strong> 1000 ile çarpımı çıkarılarak hesaplanır:\n",
    "</font>"
   ]
  },
  {
   "cell_type": "code",
   "execution_count": 10,
   "id": "cc8218ef-eec0-4b2e-86ab-e4e26a4b4bef",
   "metadata": {},
   "outputs": [],
   "source": [
    "# Balance Income hesaplama\n",
    "train[\"Balance_Income\"] = train[\"Total_Income\"] - (train[\"EMI\"] * 1000)\n",
    "test[\"Balance_Income\"] = test[\"Total_Income\"] - (test[\"EMI\"] * 1000)"
   ]
  },
  {
   "cell_type": "markdown",
   "id": "86f6bd6c-a47f-4a28-845e-0ed38cd1355e",
   "metadata": {},
   "source": [
    "<font size=\"4\" style=\"padding: 10px; font-family: Arial, sans-serif; line-height: 1.6; display: block; margin-bottom: 15px; text-align: justify;\">\n",
    "<h2>Gereksiz Sütunları Kaldırma (Dropping Unnecessary Columns)</h2>\n",
    "\n",
    "<strong>ApplicantIncome</strong>, <strong>CoapplicantIncome</strong>, <strong>LoanAmount</strong>, ve <strong>Loan_Amount_Term</strong> sütunları, veri setinden çıkarıldı:\n",
    "</font>"
   ]
  },
  {
   "cell_type": "code",
   "execution_count": 11,
   "id": "3c6e65eb-dec2-4b38-8f66-78a71a36f785",
   "metadata": {},
   "outputs": [],
   "source": [
    "train = train.drop([\"ApplicantIncome\", \"CoapplicantIncome\", \"LoanAmount\", \"Loan_Amount_Term\"], axis = 1)\n",
    "test = test.drop([\"ApplicantIncome\", \"CoapplicantIncome\", \"LoanAmount\", \"Loan_Amount_Term\"], axis = 1)"
   ]
  },
  {
   "cell_type": "code",
   "execution_count": 12,
   "id": "89a68806-3002-49f6-a4ba-e6866b6bcda5",
   "metadata": {},
   "outputs": [],
   "source": [
    "from sklearn.ensemble import RandomForestClassifier\n",
    "from sklearn.metrics import accuracy_score\n",
    "from sklearn.model_selection import StratifiedKFold\n",
    "import pandas as pd"
   ]
  },
  {
   "cell_type": "code",
   "execution_count": 13,
   "id": "322c59c5-66b1-449e-9410-3f6933c42109",
   "metadata": {},
   "outputs": [],
   "source": [
    "test_id = test[\"Loan_ID\"]\n",
    "\n",
    "# \"Loan_ID\" kolonunu kaldır\n",
    "train = train.drop(\"Loan_ID\", axis=1)\n",
    "test = test.drop(\"Loan_ID\", axis=1)\n",
    "\n",
    "X = train.drop(\"Loan_Status\", axis=1)\n",
    "y = train.Loan_Status\n",
    "\n",
    "# Eğitim setindeki kategorik sütunları belirleyin ve One-Hot Encoding uygulayın\n",
    "categorical_cols = X.select_dtypes(include=['object']).columns\n",
    "X = pd.get_dummies(X, columns=categorical_cols, drop_first=True)\n",
    "\n",
    "# Test setindeki kategorik sütunları belirleyin ve One-Hot Encoding uygulayın\n",
    "test_categorical_cols = test.select_dtypes(include=['object']).columns\n",
    "test = pd.get_dummies(test, columns=test_categorical_cols, drop_first=True)"
   ]
  },
  {
   "cell_type": "markdown",
   "id": "ab1a618b-3368-43ba-8081-b83509659e09",
   "metadata": {},
   "source": [
    "\n",
    "<font size=\"4\" style=\"padding: 10px; font-family: Arial, sans-serif; line-height: 1.6; display: block; margin-bottom: 15px; text-align: justify;\">\n",
    "<h2 style=\"font-family: Arial, sans-serif;\">Random Forest Algoritması</h2>\n",
    "  <strong>Random Forest</strong>, bir dizi <strong>decision tree</strong> (karar ağacı) kullanarak güçlü bir <strong>predictive model</strong> (tahmin modeli) oluşturan <strong>ensemble learning</strong> (toplu öğrenme) tabanlı bir algoritmadır. Her bir karar ağacı, <strong>bootstrap sampling</strong> (bootstrap örnekleme) yöntemiyle, verinin rastgele bir alt kümesi ve <strong>random feature selection</strong> (rastgele özellik seçimi) ile eğitilir. Bu sayede her bir ağaç, veri üzerinde farklı bir <strong>perspective</strong> (bakış açısı) ile öğrenir ve modelin <strong>genelleme kapasitesini</strong> artırır.\n",
    "  <br><br>\n",
    "  Her bir <strong>individual tree</strong> (bireysel ağaç) kendi tahminini yapar ve nihai tahmin, tüm bu ağaçlardan alınan tahminlerin <strong>aggregation</strong> (birleşim) yöntemiyle elde edilir. Bu birleşim, modelin <strong>robustness</strong> (sağlamlık) ve <strong>accuracy</strong> (doğruluk) seviyesini artırır, ayrıca <strong>overfitting</strong> (aşırı uyum) riskini minimize eder.\n",
    "  <br><br>\n",
    "  <strong>Regression problems</strong> (regresyon problemleri) için, nihai tahmin, tüm ağaçlardan gelen tahminlerin <strong>mean</strong> (ortalama) alınarak yapılır. Bu yöntem, tahminlerin daha <strong>stable</strong> (istikrarlı) ve <strong>reliable</strong> (güvenilir) olmasını sağlar.\n",
    "</font>"
   ]
  },
  {
   "cell_type": "code",
   "execution_count": 14,
   "id": "10507f6f-faf4-48cd-b03e-6408e78893cf",
   "metadata": {},
   "outputs": [],
   "source": [
    "import pandas as pd\n",
    "from sklearn.model_selection import StratifiedKFold\n",
    "from sklearn.ensemble import RandomForestClassifier\n",
    "from sklearn.metrics import accuracy_score"
   ]
  },
  {
   "cell_type": "code",
   "execution_count": 15,
   "id": "0cf6b946-a031-4e10-8547-a5c1523f9cf3",
   "metadata": {},
   "outputs": [],
   "source": [
    "from sklearn.model_selection import train_test_split\n",
    "x_train, x_cv, y_train, y_cv = train_test_split(X, y, test_size = 0.3)"
   ]
  },
  {
   "cell_type": "code",
   "execution_count": 16,
   "id": "882a061d-3213-448c-95b7-88a6bcbd73c3",
   "metadata": {
    "scrolled": true
   },
   "outputs": [
    {
     "name": "stdout",
     "output_type": "stream",
     "text": [
      "\n",
      "1 of kfold 5\n",
      "Accuracy Score for Fold 1: 0.8292682926829268\n",
      "\n",
      "2 of kfold 5\n",
      "Accuracy Score for Fold 2: 0.8455284552845529\n",
      "\n",
      "3 of kfold 5\n",
      "Accuracy Score for Fold 3: 0.7804878048780488\n",
      "\n",
      "4 of kfold 5\n",
      "Accuracy Score for Fold 4: 0.7642276422764228\n",
      "\n",
      "5 of kfold 5\n",
      "Accuracy Score for Fold 5: 0.7868852459016393\n"
     ]
    }
   ],
   "source": [
    "# K-Fold Cross Validation\n",
    "i = 1\n",
    "kf = StratifiedKFold(n_splits=5, random_state=1, shuffle=True)\n",
    "\n",
    "# Değerlendirme skorları\n",
    "validation_scores = []\n",
    "\n",
    "for train_index, test_index in kf.split(X, y):\n",
    "    print(\"\\n{} of kfold {}\".format(i,kf.n_splits))\n",
    "\n",
    "    # Eğitim ve test veri setlerini ayır\n",
    "    xtr, xvl = X.loc[train_index], X.loc[test_index]\n",
    "    ytr, yvl = y[train_index], y[test_index]\n",
    "\n",
    "    # Modeli eğit\n",
    "    model = RandomForestClassifier(random_state=1, max_depth=5, n_estimators=21)\n",
    "    model.fit(xtr, ytr)\n",
    "\n",
    "    # Doğrulama setinde tahmin yap\n",
    "    pred_test = model.predict(xvl)\n",
    "    score = accuracy_score(yvl, pred_test)\n",
    "    validation_scores.append(score)\n",
    "    print(f\"Accuracy Score for Fold {i}: {score}\")\n",
    "\n",
    "    i += 1\n",
    "\n",
    "# Test setinde tahmin yap\n",
    "pred_final = model.predict(test)\n",
    "pred = model.predict_proba(xvl)[:,1]"
   ]
  },
  {
   "cell_type": "code",
   "execution_count": 17,
   "id": "289c3261-e001-413c-a745-3810412c954f",
   "metadata": {},
   "outputs": [
    {
     "name": "stdout",
     "output_type": "stream",
     "text": [
      "\n",
      "Mean Validation Accuracy: 0.8012794882047182\n",
      "Leaderboard Accuracy: 0.8540540540540541\n"
     ]
    }
   ],
   "source": [
    "# Validation Skorlarının ortalamasını hesapla\n",
    "mean_validation_score = np.mean(validation_scores)\n",
    "print(f\"\\nMean Validation Accuracy: {mean_validation_score}\")\n",
    "\n",
    "# Doğrulama setinde tahmin yap\n",
    "pred_val = model.predict(x_cv)\n",
    "\n",
    "# Leaderboard skoru için doğru değişkeni kullan\n",
    "leaderboard_score = accuracy_score(y_cv, pred_val)  # pred_val doğru olan değişken\n",
    "print(f\"Leaderboard Accuracy: {leaderboard_score}\")\n"
   ]
  },
  {
   "cell_type": "code",
   "execution_count": 18,
   "id": "fe3720b2-62ca-42c6-83b1-cd8a9402267a",
   "metadata": {},
   "outputs": [],
   "source": [
    "# Boş bir DataFrame oluşturuyoruz\n",
    "submission = pd.DataFrame()\n",
    "# Loan_ID sütununu ekliyoruz\n",
    "submission['Loan_ID'] = test_id\n",
    "# Loan_Status sütununu ekliyoruz\n",
    "submission['Loan_Status'] = pred_final"
   ]
  },
  {
   "cell_type": "code",
   "execution_count": 19,
   "id": "16702b36-7669-45c3-aee3-65a94a81233d",
   "metadata": {},
   "outputs": [],
   "source": [
    "pd.DataFrame(submission, columns = [\"Loan_ID\", \"Loan_Status\"]).to_csv(\"RandomForestClassifier.csv\", index=False)"
   ]
  },
  {
   "cell_type": "code",
   "execution_count": 20,
   "id": "3844b6c8-3ec6-46e8-b875-e9306e3df0e1",
   "metadata": {},
   "outputs": [
    {
     "data": {
      "text/plain": [
       "<Axes: >"
      ]
     },
     "execution_count": 20,
     "metadata": {},
     "output_type": "execute_result"
    },
    {
     "data": {
      "image/png": "[encoded data removed]",
      "text/plain": [
       "<Figure size 1200x800 with 1 Axes>"
      ]
     },
     "metadata": {},
     "output_type": "display_data"
    }
   ],
   "source": [
    "importances = pd.Series(model.feature_importances_, index= X.columns)\n",
    "importances.plot(kind = \"barh\", figsize = (12,8))"
   ]
  }
 ],
 "metadata": {
  "kernelspec": {
   "display_name": "Python 3 (ipykernel)",
   "language": "python",
   "name": "python3"
  },
  "language_info": {
   "codemirror_mode": {
    "name": "ipython",
    "version": 3
   },
   "file_extension": ".py",
   "mimetype": "text/x-python",
   "name": "python",
   "nbconvert_exporter": "python",
   "pygments_lexer": "ipython3",
   "version": "3.9.20"
  }
 },
 "nbformat": 4,
 "nbformat_minor": 5
}
