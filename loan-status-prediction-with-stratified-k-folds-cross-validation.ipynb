{
 "cells": [
  {
   "cell_type": "markdown",
   "id": "c5fa9aa2-2e88-42ff-afd5-3f9ec74c067f",
   "metadata": {},
   "source": [
    "<font size=\"4\" style=\"padding: 10px; font-family: Arial, sans-serif; line-height: 1.6; display: block; margin-bottom: 15px; text-align: justify;\">\n",
    "<h1>Görülmemiş Verilere Karşı Model Dayanıklılığını Kontrol Etme Yöntemleri</h1>\n",
    "Modelimizin <strong>unseen data</strong> (<strong>görülmemiş veriler</strong>) karşısında ne kadar sağlam olduğunu değerlendirmek için <strong>validation</strong> (<strong>doğrulama</strong>) yöntemini kullanabiliriz. Bu yöntem, bir veri setinin belirli bir örneğini modelin eğitiminde kullanmamak anlamına gelir. Sonrasında, modelimizi bu örnek üzerinde test ederiz ve modeli sonlandırmadan önce bu testin sonuçlarını değerlendiririz. Yaygın kullanılan bazı <strong>validation methods</strong> (<strong>doğrulama yöntemleri</strong>) aşağıda sıralanmıştır:\n",
    "    <ul>\n",
    "  <li>Validation set approach (Doğrulama seti yaklaşımı)</li>\n",
    "  <li>k-Fold cross validation (k-katlı çapraz doğrulama)</li>\n",
    "  <li>Leave-One-Out Cross Validation (LOOCV) (Bir bırak çapraz doğrulama)</li>\n",
    "  <li>Stratified k-Fold cross validation (Katmanlı k-katlı çapraz doğrulama)</li>\n",
    "</ul>\n",
    "</font>\n",
    "\n"
   ]
  },
  {
   "cell_type": "markdown",
   "id": "02bcae48-dee6-478e-b289-b9b312dce30b",
   "metadata": {},
   "source": [
    "## Kütüphaneleri İçe Aktarma:"
   ]
  },
  {
   "cell_type": "code",
   "execution_count": 64,
   "id": "3216bbc7-4b99-4d84-8cc1-3d7c305a666b",
   "metadata": {},
   "outputs": [],
   "source": [
    "import pandas as pd\n",
    "import numpy as np\n",
    "import seaborn as sns\n",
    "import matplotlib.pyplot as plt\n",
    "from sklearn.model_selection import KFold\n",
    "from sklearn.linear_model import LogisticRegression\n",
    "from sklearn.metrics import accuracy_score\n",
    "\n",
    "# Grafiklerin doğrudan not defterinde gösterilmesini sağlar\n",
    "%matplotlib inline\n",
    "\n",
    "# Uyarıları yok say\n",
    "import warnings\n",
    "warnings.filterwarnings(\"ignore\")\n"
   ]
  },
  {
   "cell_type": "markdown",
   "id": "63eb5e0d-864e-4710-9f42-614fa4b077a9",
   "metadata": {},
   "source": [
    "<font size=\"4\" style=\"padding: 10px; font-family: Arial, sans-serif; line-height: 1.6; display: block; margin-bottom: 15px; text-align: justify;\">\n",
    "<h2>\n",
    "Veri Setlerinin Yüklenmesi\n",
    "</h2>\n",
    "Aşağıdaki kod, iki farklı CSV dosyasını okuyarak eğitim ve test veri setlerini yükler:\n",
    "</font>"
   ]
  },
  {
   "cell_type": "code",
   "execution_count": 65,
   "id": "12f3affb-91d8-4e0b-ba29-77a654fd2a06",
   "metadata": {},
   "outputs": [],
   "source": [
    "train = pd.read_csv(r\"C:\\Users\\Samira\\Sumeyra\\btk-akademi\\Home-Loan-Eligibility-Predictor\\dataset\\train_ctrUa4K.csv\")\n",
    "test = pd.read_csv(r\"C:\\Users\\Samira\\Sumeyra\\btk-akademi\\Home-Loan-Eligibility-Predictor\\dataset\\test_lAUu6dG.csv\")"
   ]
  },
  {
   "cell_type": "markdown",
   "id": "bfb05aea-57ea-404f-9fb6-35bdfad27cdd",
   "metadata": {},
   "source": [
    "<font size=\"4\" style=\"padding: 10px; font-family: Arial, sans-serif; line-height: 1.6; display: block; margin-bottom: 15px; text-align: justify;\">\n",
    "<h2>\n",
    "Eğitim Veri Setindeki Eksik Verilerin Doldurulması\n",
    "</h2>\n",
    "Aşağıdaki kod, eğitim veri setindeki eksik (NaN) değerleri, her sütunun mod (en sık görülen değer) ile doldurur:\n",
    "</font>"
   ]
  },
  {
   "cell_type": "code",
   "execution_count": 66,
   "id": "20aa018c-129b-4457-9bef-1c3cf3c6b3d5",
   "metadata": {},
   "outputs": [],
   "source": [
    "train[\"Gender\"].fillna(train[\"Gender\"].mode()[0], inplace = True)\n",
    "train[\"Married\"].fillna(train[\"Married\"].mode()[0], inplace = True)\n",
    "train[\"Dependents\"].fillna(train[\"Dependents\"].mode()[0], inplace = True)\n",
    "train[\"Self_Employed\"].fillna(train[\"Self_Employed\"].mode()[0], inplace = True)\n",
    "train[\"Credit_History\"].fillna(train[\"Credit_History\"].mode()[0], inplace = True)"
   ]
  },
  {
   "cell_type": "markdown",
   "id": "17afc658-aaf1-45f9-8a2a-2d10b28273fc",
   "metadata": {},
   "source": [
    "<font size=\"4\" style=\"padding: 10px; font-family: Arial, sans-serif; line-height: 1.6; display: block; margin-bottom: 15px; text-align: justify;\">\n",
    "<h2>\n",
    "Test Veri Setindeki Eksik Verilerin Doldurulması\n",
    "</h2>\n",
    "Aşağıdaki kod, test veri setindeki eksik (NaN) değerleri, her sütunun mod (en sık görülen değer) ile doldurur:\n",
    "</font>"
   ]
  },
  {
   "cell_type": "code",
   "execution_count": 67,
   "id": "fda1c8bf-860e-4782-a092-351dc3efffc3",
   "metadata": {},
   "outputs": [],
   "source": [
    "test[\"Gender\"].fillna(test[\"Gender\"].mode()[0], inplace = True)\n",
    "test[\"Married\"].fillna(test[\"Married\"].mode()[0], inplace = True)\n",
    "test[\"Dependents\"].fillna(test[\"Dependents\"].mode()[0], inplace = True)\n",
    "test[\"Self_Employed\"].fillna(test[\"Self_Employed\"].mode()[0], inplace = True)\n",
    "test[\"Credit_History\"].fillna(test[\"Credit_History\"].mode()[0], inplace = True)"
   ]
  },
  {
   "cell_type": "markdown",
   "id": "cd1508cb-8f57-4ebd-b1f5-f1769dc76811",
   "metadata": {},
   "source": [
    "<font size=\"4\" style=\"padding: 10px; font-family: Arial, sans-serif; line-height: 1.6; display: block; margin-bottom: 15px; text-align: justify;\">\n",
    "<h2>\n",
    "Loan_Amount_Term Sütunundaki Eksik Verilerin Doldurulması\n",
    "</h2>\n",
    "Aşağıdaki kod, hem eğitim (<strong>train</strong>) hem de test (<strong>test</strong>) veri setlerinde, <strong>Loan_Amount_Term</strong> sütunundaki eksik (<strong>NaN</strong>) değerleri en sık görülen değer (<strong>mod</strong>) ile doldurur:\n",
    "</font>"
   ]
  },
  {
   "cell_type": "code",
   "execution_count": 68,
   "id": "ce01c171-2643-4946-847b-4a5b2a4ce671",
   "metadata": {},
   "outputs": [],
   "source": [
    "train[\"Loan_Amount_Term\"].fillna(train[\"Loan_Amount_Term\"].mode()[0], inplace = True)\n",
    "test[\"Loan_Amount_Term\"].fillna(test[\"Loan_Amount_Term\"].mode()[0], inplace = True)"
   ]
  },
  {
   "cell_type": "markdown",
   "id": "2b98f886-4ffc-432a-be00-9ac1e9a7830a",
   "metadata": {},
   "source": [
    "<font size=\"4\" style=\"padding: 10px; font-family: Arial, sans-serif; line-height: 1.6; display: block; margin-bottom: 15px; text-align: justify;\">\n",
    "<h2>\n",
    "LoanAmount Sütunundaki Eksik Verilerin Doldurulması\n",
    "</h2>\n",
    "Aşağıdaki kod, hem eğitim (<strong>train</strong>) hem de test (<strong>test</strong>) veri setlerinde, <strong>LoanAmount</strong> sütunundaki eksik (<strong>NaN</strong>) değerleri sütunun <strong>medyan</strong> değeriyle doldurur:\n",
    "</font>"
   ]
  },
  {
   "cell_type": "code",
   "execution_count": 69,
   "id": "9632dffb-2571-4684-8e98-7db1b0a66d8c",
   "metadata": {},
   "outputs": [],
   "source": [
    "train[\"LoanAmount\"].fillna(train[\"LoanAmount\"].median(), inplace = True)\n",
    "test[\"LoanAmount\"].fillna(test[\"LoanAmount\"].median(), inplace = True)"
   ]
  },
  {
   "cell_type": "markdown",
   "id": "7123ca3b-a1dc-4e2d-9083-4f41d71e2cc7",
   "metadata": {},
   "source": [
    "<font size=\"4\" style=\"padding: 10px; font-family: Arial, sans-serif; line-height: 1.6; display: block; margin-bottom: 15px; text-align: justify;\">\n",
    "<h2>\n",
    "Kategorik Verilerin Sayısal Veriye Dönüştürülmesi (One-Hot Encoding)\n",
    "</h2>\n",
    "Aşağıdaki kod parçaları, eğitim (<strong>train</strong>) ve test (<strong>test</strong>) veri setlerinde kategorik sütunlar için <strong>one-hot encoding</strong> işlemi gerçekleştirir:\n",
    "</font>"
   ]
  },
  {
   "cell_type": "code",
   "execution_count": 70,
   "id": "0241d0bd-f16e-4fea-b786-bfe5fd686ca3",
   "metadata": {},
   "outputs": [],
   "source": [
    "# \"Loan_ID\" kolonunu kaldır\n",
    "train = train.drop(\"Loan_ID\", axis=1)\n",
    "test = test.drop(\"Loan_ID\", axis=1)\n",
    "\n",
    "# Özellikler (X) ve hedef değişken (y) ayırma\n",
    "X = train.drop(\"Loan_Status\", axis=1)\n",
    "y = train[\"Loan_Status\"]\n",
    "\n",
    "# Kategorik değişkenleri dummy değişkenlere çevir\n",
    "X = pd.get_dummies(X)\n",
    "train = pd.get_dummies(train)\n",
    "test = pd.get_dummies(test)"
   ]
  },
  {
   "cell_type": "markdown",
   "id": "253e42f2-3208-4d29-abc7-c0d8cd7b69f9",
   "metadata": {},
   "source": [
    "<font size=\"4\" style=\"padding: 10px; font-family: Arial, sans-serif; line-height: 1.6; display: block; margin-bottom: 15px; text-align: justify;\">\n",
    "    <h2>Stratifiye K-Katlamalı Çapraz Doğrulama</h2>    \n",
    "    <ul>\n",
    "        <li><b>Stratifikasyon Nedir?</b><br>\n",
    "            Stratifikasyon, verilerin her katlamada, tüm veri setinin iyi bir temsilcisi olacak şekilde düzenlenmesidir. Bu, modelin her katlamada verilerin dağılımını doğru şekilde öğrenmesini sağlar.\n",
    "        </li>\n",
    "        <li><b>İkili Sınıflandırma Örneği</b><br>\n",
    "            Örneğin, bir ikili sınıflandırma probleminde, verilerin %50'si bir sınıfa, %50'si diğer sınıfa ait olabilir. Bu durumda, her katlamada her sınıfın yaklaşık %50'sini içeren bir düzenleme yapmak en iyisidir. Böylece, her katlama veri setinin tüm özelliklerini daha doğru bir şekilde yansıtır.\n",
    "        </li>\n",
    "        <li><b>Bias ve Varyans Yönetimi</b><br>\n",
    "            Stratifikasyon, bias ve varyans sorunlarını daha iyi yönetmek için genellikle daha etkili bir yaklaşımdır. Bu, modelin her katlamada dengeli ve doğru veri ile eğitim almasını sağlar.\n",
    "        </li>\n",
    "        <li><b>Sınıf Dengesizliği Durumları</b><br>\n",
    "            Özellikle büyük sınıf dengesizliği durumlarında, rastgele seçilen bir katlama küçük sınıfı yeterince temsil etmeyebilir. Stratifikasyon, her sınıfın verinin tüm katlamalarda uygun şekilde temsil edilmesini sağlayarak bu sorunu ortadan kaldırır.\n",
    "        </li>\n",
    "    </ul>\n",
    "</font>"
   ]
  },
  {
   "cell_type": "markdown",
   "id": "eaf31f87-3ecd-40d1-8b7d-02c7f0bb11ea",
   "metadata": {},
   "source": [
    "<font size=\"4\" style=\"padding: 10px; font-family: Arial, sans-serif; line-height: 1.6; display: block; margin-bottom: 15px; text-align: justify;\">\n",
    "    Aşağıda, <strong>k = 5</strong> olduğunda stratifiye k-katlamalı doğrulamanın görselleştirmesi yer almaktadır:\n",
    "</font>"
   ]
  },
  {
   "cell_type": "markdown",
   "id": "e2e251ce-2f39-47c9-b056-666f3aaa257d",
   "metadata": {},
   "source": [
    "<img src=\"imajes/İmaje-1.png\" style=\"width: 100%; height: auto; object-fit: cover; display: block;\">"
   ]
  },
  {
   "cell_type": "markdown",
   "id": "a7d02672-c99a-4c99-8c15-66dcdcf00046",
   "metadata": {},
   "source": [
    "<font size=\"4\" style=\"padding: 10px; font-family: Arial, sans-serif; line-height: 1.6; display: block; margin-bottom: 15px; text-align: justify;\">\n",
    "    <strong>StratifiedKFold</strong>'ü <strong>sklearn</strong>'den içe aktaralım ve modeli eğitelim:\n",
    "</font>"
   ]
  },
  {
   "cell_type": "code",
   "execution_count": 71,
   "id": "07981e1e-ccf2-4bd7-a889-8fc25dbbf6db",
   "metadata": {},
   "outputs": [],
   "source": [
    "from sklearn.model_selection import StratifiedKFold"
   ]
  },
  {
   "cell_type": "markdown",
   "id": "3a6ec734-0d10-4c3c-93c4-d45d03ed25d7",
   "metadata": {},
   "source": [
    "<font size=\"4\" style=\"padding: 10px; font-family: Arial, sans-serif; line-height: 1.6; display: block; margin-bottom: 15px; text-align: justify;\">\n",
    "    Şimdi, <strong>stratifiye 5 katlamalı çapraz doğrulama</strong> ile bir <strong>lojistik regresyon</strong> modeli kuralım ve <strong>test veri seti</strong> için tahminler yapalım:\n",
    "</font>"
   ]
  },
  {
   "cell_type": "code",
   "execution_count": 72,
   "id": "39cb3e2f-e2bd-4d74-8026-071f90f631c5",
   "metadata": {},
   "outputs": [
    {
     "name": "stdout",
     "output_type": "stream",
     "text": [
      "\n",
      "1 of kfold 5\n",
      "accuracy_score 0.8048780487804879\n",
      "\n",
      "2 of kfold 5\n",
      "accuracy_score 0.7723577235772358\n",
      "\n",
      "3 of kfold 5\n",
      "accuracy_score 0.8617886178861789\n",
      "\n",
      "4 of kfold 5\n",
      "accuracy_score 0.7886178861788617\n",
      "\n",
      "5 of kfold 5\n",
      "accuracy_score 0.7950819672131147\n"
     ]
    }
   ],
   "source": [
    "i = 1\n",
    "\n",
    "# KFold nesnesini oluşturuyoruz\n",
    "kf = KFold(n_splits=5, shuffle=True, random_state=1)\n",
    "\n",
    "# X ve y'nizi buraya tanımlamanız gerek\n",
    "# X: Özellikler (features)\n",
    "# y: Etiketler (labels)\n",
    "\n",
    "# KFold ile veriyi bölüyoruz\n",
    "for i, (train_index, test_index) in enumerate(kf.split(X, y), 1):  # enumerate ile 'i' oluşturuluyor\n",
    "    print(\"\\n{} of kfold {}\".format(i, kf.n_splits))  # Geçerli fold numarasını yazdırıyoruz\n",
    "    xtr, xvl = X.iloc[train_index], X.iloc[test_index]\n",
    "    ytr, yvl = y.iloc[train_index], y.iloc[test_index]\n",
    "\n",
    "    # Modeli oluşturuyoruz\n",
    "    model = LogisticRegression(random_state=1)\n",
    "    model.fit(xtr, ytr)  # Eğitim verisiyle modeli eğitiyoruz\n",
    "    \n",
    "    # Test verisiyle tahmin yapıyoruz\n",
    "    pred_test = model.predict(xvl)\n",
    "    \n",
    "    # Başarıyı değerlendiriyoruz\n",
    "    score = accuracy_score(yvl, pred_test)\n",
    "    print(\"accuracy_score\", score)  # Doğruluk skorunu yazdırıyoruz\n",
    "\n",
    "i += 1\n",
    "pred_test = model.predict(test)\n",
    "pred = model.predict_proba(xvl)[:,1]"
   ]
  },
  {
   "cell_type": "markdown",
   "id": "fa759a41-2dd1-4d77-bb0b-e53613fbb55c",
   "metadata": {},
   "source": [
    "<font size=\"4\" style=\"padding: 10px; font-family: Arial, sans-serif; line-height: 1.6; display: block; margin-bottom: 15px; text-align: justify;\">\n",
    "    Bu modelin ortalama doğrulama doğruluğu <strong>0.81</strong> olarak bulunuyor. Şimdi, <strong>ROC eğrisini</strong> görselleştirelim:\n",
    "</font>"
   ]
  },
  {
   "cell_type": "code",
   "execution_count": 73,
   "id": "48156885-cacb-428f-b5d6-402dda25778e",
   "metadata": {},
   "outputs": [
    {
     "data": {
      "image/png": "[encoded data removed]",
      "text/plain": [
       "<Figure size 1200x800 with 1 Axes>"
      ]
     },
     "metadata": {},
     "output_type": "display_data"
    }
   ],
   "source": [
    "from sklearn import metrics\n",
    "\n",
    "# Etiketleri 0 ve 1'e dönüştürüyoruz\n",
    "yvl_numeric = yvl.map({'N': 0, 'Y': 1})  # 'N' -> 0, 'Y' -> 1\n",
    "\n",
    "# ROC hesaplamalarını yeniden yapıyoruz\n",
    "fpr, tpr, thresholds = metrics.roc_curve(yvl_numeric, pred)\n",
    "auc = metrics.roc_auc_score(yvl_numeric, pred)\n",
    "\n",
    "# ROC eğrisi çizimi\n",
    "plt.figure(figsize=(12, 8))\n",
    "plt.plot(fpr, tpr, label=f\"Validation, AUC = {auc:.2f}\")\n",
    "plt.xlabel(\"False Positive Rate\")\n",
    "plt.ylabel(\"True Positive Rate\")\n",
    "plt.title(\"ROC Curve\")\n",
    "plt.legend(loc=4)\n",
    "plt.show()"
   ]
  },
  {
   "cell_type": "markdown",
   "id": "a7ceb40f-eaff-4051-8394-7e91d6554cf2",
   "metadata": {},
   "source": [
    "<font size=\"4\" style=\"padding: 10px; font-family: Arial, sans-serif; line-height: 1.6; display: block; margin-bottom: 15px; text-align: justify;\">\n",
    "    <strong>0.77</strong>'lik bir <strong>AUC</strong> değeri elde ettik.\n",
    "</font>"
   ]
  },
  {
   "cell_type": "code",
   "execution_count": 74,
   "id": "ac40fb10-ccba-4e15-9767-cbdd777b548b",
   "metadata": {},
   "outputs": [],
   "source": [
    "# Test setindeki Loan_ID'yi ve tahmin edilen Loan_Status'u birleştiriyoruz\n",
    "submission = pd.DataFrame()  # Boş bir DataFrame oluşturuyoruz\n",
    "submission['Loan_ID'] = test_original['Loan_ID']  # Loan_ID sütununu ekliyoruz\n",
    "submission['Loan_Status'] = pred_test  # Loan_Status sütununu ekliyoruz"
   ]
  },
  {
   "cell_type": "markdown",
   "id": "5a887539-697e-4e69-886a-b57300531c87",
   "metadata": {},
   "source": [
    "<font size=\"4\" style=\"padding: 10px; font-family: Arial, sans-serif; line-height: 1.6; display: block; margin-bottom: 15px; text-align: justify;\">\n",
    "    Unutmayalım, tahminlerin <strong>Y</strong> ve <strong>N formatında</strong> olması gerekiyor. Bu nedenle, <strong>1</strong> ve <strong>0</strong> değerlerini <strong>Y</strong> ve <strong>N</strong> olarak dönüştürelim.\n",
    "</font>"
   ]
  },
  {
   "cell_type": "code",
   "execution_count": 75,
   "id": "f32d350d-8762-46cb-8597-8df03dcfeca6",
   "metadata": {},
   "outputs": [],
   "source": [
    "submission[\"Loan_Status\"].replace(0, \"N\", inplace=True)\n",
    "submission[\"Loan_Status\"].replace(1, \"Y\", inplace=True)"
   ]
  },
  {
   "cell_type": "markdown",
   "id": "6e7c57d7-16f6-46d2-9666-fd5c84d0c077",
   "metadata": {},
   "source": [
    "<font size=\"4\" style=\"padding: 10px; font-family: Arial, sans-serif; line-height: 1.6; display: block; margin-bottom: 15px; text-align: justify;\">\n",
    "    Şimdi, gönderimi <strong>.csv formatına</strong> dönüştürelim ve <strong>doğrulama skorunu</strong> liderlik tablosunda görmek için göndermeyi yapalım:\n",
    "</font>"
   ]
  },
  {
   "cell_type": "code",
   "execution_count": 76,
   "id": "dcdfc093-7f12-43ee-8da8-0431b1142909",
   "metadata": {},
   "outputs": [],
   "source": [
    "pd.DataFrame(submission, columns = [\"Load_ID\", \"Loan_Status\"]).to_csv(\"K-Folds.csv\")"
   ]
  },
  {
   "cell_type": "markdown",
   "id": "1224d385-517f-4832-ba82-f21d62f736e5",
   "metadata": {},
   "source": [
    "<font size=\"4\" style=\"padding: 10px; font-family: Arial, sans-serif; line-height: 1.6; display: block; margin-bottom: 15px; text-align: justify;\">\n",
    "    Bu gönderimden liderlik tablosunda <strong>0.78472</strong> doğruluk elde ettik. Şimdi, farklı yaklaşımlar kullanarak bu doğruluğu artırmaya çalışacağız.\n",
    "</font>"
   ]
  }
 ],
 "metadata": {
  "kernelspec": {
   "display_name": "Python 3 (ipykernel)",
   "language": "python",
   "name": "python3"
  },
  "language_info": {
   "codemirror_mode": {
    "name": "ipython",
    "version": 3
   },
   "file_extension": ".py",
   "mimetype": "text/x-python",
   "name": "python",
   "nbconvert_exporter": "python",
   "pygments_lexer": "ipython3",
   "version": "3.9.20"
  }
 },
 "nbformat": 4,
 "nbformat_minor": 5
}
