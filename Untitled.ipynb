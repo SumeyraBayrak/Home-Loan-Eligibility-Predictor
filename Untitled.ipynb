{
 "cells": [
  {
   "cell_type": "markdown",
   "id": "59f5ca9e-2d11-4d3b-b49a-003715843b5c",
   "metadata": {},
   "source": [
    "# Proje Özeti: Kredi Uygunluğunu Tahmin Etme\n",
    "\n",
    "**Dream Housing Finance**, müşterilerine ev kredisi hizmeti sunmaktadır ve müşteri kredi uygunluk sürecini otomatikleştirmek istemektedir. Bu proje, müşterilerden alınan çeşitli bilgiler kullanılarak kredi onaylanma durumunu tahmin etmek amacıyla bir model geliştirmeyi hedeflemektedir.\n",
    "\n",
    "---\n",
    "\n",
    "## Veri Setleri\n",
    "\n",
    "### Eğitim Verisi (train.csv)\n",
    "- Müşterilerin kredi uygunluk durumunu içerir.\n",
    "- **Hedef Değişken:** Kredi Durumu (Evet/Hayır).\n",
    "\n",
    "### Test Verisi (test.csv)\n",
    "- Yeni müşterilere ait bilgileri içerir.\n",
    "- **Hedef Değişken:** Kredi Durumu (Evet/Hayır) bu veri seti üzerinde tahmin edilecektir.\n",
    "\n",
    "### Gönderim Dosyası (submission.csv)\n",
    "- Test verisi için tahmin edilen kredi durumunu içerir.\n",
    "- **Kolonlar:**\n",
    "  - `Kredi_ID`\n",
    "  - `Kredi_Durumu`\n",
    "\n",
    "---\n",
    "\n",
    "## Veri Sözlüğü\n",
    "\n",
    "| **Değişken**         | **Açıklama**                                      |\n",
    "|----------------------|---------------------------------------------------|\n",
    "| **Cinsiyet**          | Erkek/Kadın.                                      |\n",
    "| **Evli**              | Evli olup olmama durumu.                         |\n",
    "| **Bağımlılar**        | Bakmakla yükümlü kişi sayısı.                     |\n",
    "| **Eğitim**            | Lisansüstü veya Lisans eğitimi.                  |\n",
    "| **Self_Employed**     | Serbest meslek sahibi olup olmama durumu.        |\n",
    "| **Başvuru Geliri**    | Başvuru sahibinin geliri.                        |\n",
    "| **Eş Geliri**         | Ortak başvuranın geliri.                         |\n",
    "| **Kredi Miktarı**     | Talep edilen kredi miktarı.                      |\n",
    "| **Kredi Süresi**      | Kredi geri ödeme süresi (ay olarak).             |\n",
    "| **Kredi Geçmişi**     | Geçmiş kredi ödemelerinin durumu.                |\n",
    "| **Mülk Alanı**        | Kentsel, Yarı Kentsel veya Kırsal.               |\n",
    "| **Kredi Durumu**      | Kredi onaylandı mı? (Evet/Hayır).                |\n"
   ]
  },
  {
   "cell_type": "code",
   "execution_count": 3,
   "id": "78cb266a-ecfe-45d4-9477-e6bb5dc33239",
   "metadata": {},
   "outputs": [],
   "source": [
    "import pandas as pd\n",
    "import numpy as np\n",
    "import seaborn as sns\n",
    "import matplotlib.pyplot as plt\n",
    "%matplotlib inline\n",
    "import warnings\n",
    "warnings.filterwarnings(\"ignore\")"
   ]
  },
  {
   "cell_type": "code",
   "execution_count": 5,
   "id": "9ba9cbc6-2329-4f45-a15d-2ad674fc872e",
   "metadata": {},
   "outputs": [],
   "source": [
    "train = pd.read_csv(\"train_ctrUa4K.csv\")"
   ]
  },
  {
   "cell_type": "code",
   "execution_count": 7,
   "id": "58246a13-e824-4cca-8fda-cfc5c79c4426",
   "metadata": {},
   "outputs": [],
   "source": [
    "test = pd.read_csv(\"test_lAUu6dG.csv\")"
   ]
  },
  {
   "cell_type": "code",
   "execution_count": 9,
   "id": "abffe7f2-8a54-4501-89b4-54928ba2a890",
   "metadata": {},
   "outputs": [],
   "source": [
    "train_original = train.copy()\n",
    "test_original = test.copy()"
   ]
  },
  {
   "cell_type": "code",
   "execution_count": 10,
   "id": "9a320c24-b4ed-42f6-bfb5-242479ae2665",
   "metadata": {},
   "outputs": [
    {
     "data": {
      "text/plain": [
       "Loan_ID               object\n",
       "Gender                object\n",
       "Married               object\n",
       "Dependents            object\n",
       "Education             object\n",
       "Self_Employed         object\n",
       "ApplicantIncome        int64\n",
       "CoapplicantIncome    float64\n",
       "LoanAmount           float64\n",
       "Loan_Amount_Term     float64\n",
       "Credit_History       float64\n",
       "Property_Area         object\n",
       "Loan_Status           object\n",
       "dtype: object"
      ]
     },
     "execution_count": 10,
     "metadata": {},
     "output_type": "execute_result"
    }
   ],
   "source": [
    "train.dtypes"
   ]
  },
  {
   "cell_type": "code",
   "execution_count": 11,
   "id": "061818f1-a826-4e4c-aedf-21a0c444e0e8",
   "metadata": {},
   "outputs": [
    {
     "data": {
      "text/plain": [
       "(614, 13)"
      ]
     },
     "execution_count": 11,
     "metadata": {},
     "output_type": "execute_result"
    }
   ],
   "source": [
    "train.shape"
   ]
  },
  {
   "cell_type": "code",
   "execution_count": 12,
   "id": "6377b6bb-80d3-4cd2-9c94-68a2b6df179c",
   "metadata": {},
   "outputs": [
    {
     "data": {
      "text/plain": [
       "(367, 12)"
      ]
     },
     "execution_count": 12,
     "metadata": {},
     "output_type": "execute_result"
    }
   ],
   "source": [
    "test.shape"
   ]
  },
  {
   "cell_type": "code",
   "execution_count": null,
   "id": "52870d55-378c-4bf0-944e-8b5764fd3d12",
   "metadata": {},
   "outputs": [],
   "source": []
  }
 ],
 "metadata": {
  "kernelspec": {
   "display_name": "Python 3 (ipykernel)",
   "language": "python",
   "name": "python3"
  },
  "language_info": {
   "codemirror_mode": {
    "name": "ipython",
    "version": 3
   },
   "file_extension": ".py",
   "mimetype": "text/x-python",
   "name": "python",
   "nbconvert_exporter": "python",
   "pygments_lexer": "ipython3",
   "version": "3.9.19"
  }
 },
 "nbformat": 4,
 "nbformat_minor": 5
}
